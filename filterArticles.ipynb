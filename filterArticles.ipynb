{
 "cells": [
  {
   "cell_type": "code",
   "execution_count": null,
   "metadata": {},
   "outputs": [],
   "source": [
    "import pymongo\n",
    "from pymongo import MongoClient"
   ]
  },
  {
   "cell_type": "code",
   "execution_count": null,
   "metadata": {},
   "outputs": [],
   "source": [
    "art_client = MongoClient(\"mongodb://act4dgem.cse.iitd.ac.in:27017\")\n",
    "client = MongoClient(\"mongodb://act4dgem.cse.iitd.ac.in:27017\")\n",
    "\n",
    "art_db = art_client[\"media-db\"]\n",
    "db_list = [\"agriculture\",\"development\",\"environment\",\"industrialization\",\"lifestyle\"]\n",
    "my_db = client[\"media-db\"]"
   ]
  },
  {
   "cell_type": "code",
   "execution_count": null,
   "metadata": {},
   "outputs": [],
   "source": [
    "keywords = [[\"agri\", \"pesticide\", \"insecticide\", \"kharif crop\",\n",
    "\"kharif-crop\", \"rabi crop\", \"rabi-crop\", \"crops\",\n",
    "\"monsoon\", \"irrigate\", \"farmer\", \"loan waiver\", \"bhartiya kisan sangathan\", \"bks\", \"pradhan mantri fasal bima\",\n",
    "\"pm fasal bima\",\"national agriculture market\", \"enam\", \"pmksy\", \"pkvy\", \"pradhan mantri krishi sinchayee\", \n",
    " \"pm krishi sinchayee\",\"paramparagat krishi vikas\", \"pm kisan yojna\", \"pradhan mantri kisan yojna\"],\n",
    "[\"development scheme\", \"development program\", \"pradhan mantri gram sadak\",\n",
    "\"national rural employment guarantee\",\"mgnrega\", \"nrega\", \"pmgsy\", \"make in india\",\n",
    "\"jan dhan yojna\", \"beti bachao beti padhao\", \"digital india\", \"stand up india\", \"prime minister ujjwala plan\",\n",
    " \"pm ujjwala plan gramoday se bharat uday\", \"shramew jayate\" , \"ujjwala scheme\", \"udan\", \n",
    " \"regional connectivity scheme\", \"smart cities mission\",\"skill india mission\", \"national career service\",\n",
    " \"egovernance\", \"egov\", \"aadhaar\", \"pds\", \"ration\", \"nutrition\", \"malnutrition\", \"sanitation\",\n",
    "\"hygiene\", \"immunization\", \"vaccines\", \"ayusman bharat\", \"rsby\"],\n",
    "[\"forest\", \"eco\", \"environment\", \"deforestation\",\"wildlife\", \"pollution\", \"swachh bharat mission\", \n",
    " \"swachchh bharat mission\", \"swachhgram\", \"clean india mission\", \"pmfby\", \"fra\", \n",
    " \"integrated conservation and development\",\"icdp\", \"jfm\", \"poaching\", \"ntfp\", \"tiger\", \"leopard\",\"zool\"],\n",
    "[\"coal\", \"lignite\",\"steel product\", \"industry\",\"leather product\",\"crude petroleum\", \"metal product\", \n",
    " \"textile\", \"fertilizer\", \"pesticide\",\"enterprise\",\"prime minister employment generation programme\",\"estate\",\n",
    "\"pmegp\",\"credit guarantee trust fund for micro & small enterprises\",\"cgt sme\",\"mine\",\n",
    "\"mining\", \"stock market\", \"equity market\",\"share market\", \"factory\"],\n",
    "[\"lifestyle\", \"life-style\", \"fashion\", \"art\", \"art and culture\", \"health tips\", \"tourism\", \"culture\",\n",
    " \"travel\", \"tech\", \"spirituality\", \"astrology\",\"celebrity\", \"riot\", \"movie\", \"crime\", \"violence\",\n",
    "\"communal\", \"hatred\", \"fake news\", \"misinformation\", \"migration\", \"suicide\",\"few\",\"sneaked\"]]\n",
    "\n"
   ]
  },
  {
   "cell_type": "code",
   "execution_count": null,
   "metadata": {},
   "outputs": [],
   "source": [
    "for i in range(len(db_list)):\n",
    "    db = my_db[db_list[i]]\n",
    "    keyw='|'.join(keywords[i])\n",
    "    x = art_db.articles.find({'text': {'$regex': keyw, '$options': 'i'}},no_cursor_timeout=True)\n",
    "    for art in x:\n",
    "        txt = art['text'].lower()\n",
    "        cnt = len([k for k in keywords[i] if k in txt])\n",
    "        if cnt>=3:\n",
    "            db.insert_one(art)            "
   ]
  },
  {
   "cell_type": "code",
   "execution_count": null,
   "metadata": {},
   "outputs": [],
   "source": []
  }
 ],
 "metadata": {
  "kernelspec": {
   "display_name": "Python 3",
   "language": "python",
   "name": "python3"
  },
  "language_info": {
   "codemirror_mode": {
    "name": "ipython",
    "version": 3
   },
   "file_extension": ".py",
   "mimetype": "text/x-python",
   "name": "python",
   "nbconvert_exporter": "python",
   "pygments_lexer": "ipython3",
   "version": "3.8.3"
  }
 },
 "nbformat": 4,
 "nbformat_minor": 4
}
