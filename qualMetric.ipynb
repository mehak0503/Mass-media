{
 "cells": [
  {
   "cell_type": "code",
   "execution_count": 2,
   "metadata": {},
   "outputs": [],
   "source": [
    "import pandas as pd\n",
    "import os\n",
    "import math\n",
    "import numpy as np"
   ]
  },
  {
   "cell_type": "code",
   "execution_count": 3,
   "metadata": {},
   "outputs": [],
   "source": [
    "def get_nums(df):\n",
    "    all_values = []\n",
    "    for i in df.columns:\n",
    "        tmp = list(df[i])\n",
    "        res = []\n",
    "        for j in tmp:\n",
    "            if isinstance(j,int) or (isinstance(j,float) and not math.isnan(j)):\n",
    "                res.append(int(j))\n",
    "        if len(res)>0:\n",
    "            all_values.append(res)\n",
    "    return all_values"
   ]
  },
  {
   "cell_type": "code",
   "execution_count": 4,
   "metadata": {},
   "outputs": [],
   "source": [
    "files = os.listdir('.')\n",
    "all_values = []\n",
    "for file in files:\n",
    "    if 'xlsx' in file:\n",
    "        print(file)\n",
    "        xls = pd.ExcelFile(file)\n",
    "        values = []\n",
    "        df1 = pd.read_excel(xls,'Pattern 1')\n",
    "        values.append(get_nums(df1))\n",
    "        df2 = pd.read_excel(xls,'Pattern 2')\n",
    "        values.append(get_nums(df2))\n",
    "        df3 = pd.read_excel(xls,'Pattern 3')\n",
    "        values.append(get_nums(df3))\n",
    "        all_values.append(values)"
   ]
  },
  {
   "cell_type": "markdown",
   "metadata": {},
   "source": [
    "11 users reviews"
   ]
  },
  {
   "cell_type": "code",
   "execution_count": 421,
   "metadata": {},
   "outputs": [],
   "source": [
    "arr = np.array(all_values)"
   ]
  },
  {
   "cell_type": "code",
   "execution_count": 422,
   "metadata": {},
   "outputs": [
    {
     "name": "stdout",
     "output_type": "stream",
     "text": [
      "Ttest_indResult(statistic=3.7962830118264836, pvalue=0.0011323015238103326) Ttest_indResult(statistic=3.5513293706029954, pvalue=0.0020022230371829555)\n",
      "Ttest_indResult(statistic=2.547560838363936, pvalue=0.01917688650009987) Ttest_indResult(statistic=4.560908549012227, pvalue=0.00018984552414063767)\n",
      "Ttest_indResult(statistic=3.212237746117123, pvalue=0.004372328214823962) Ttest_indResult(statistic=1.0000000000000002, pvalue=0.32925657717170886)\n",
      "Ttest_indResult(statistic=3.7455475185334697, pvalue=0.0012745250359015707) Ttest_indResult(statistic=4.948891332786446, pvalue=7.730568882473863e-05)\n",
      "Ttest_indResult(statistic=-1.3728129459672882, pvalue=0.18500909755239753) Ttest_indResult(statistic=0.7532435771547097, pvalue=0.4600793005644893)\n",
      "Ttest_indResult(statistic=-0.8006407690254358, pvalue=0.4327482471586739) Ttest_indResult(statistic=0.5976143046671962, pvalue=0.5568040543422415)\n",
      "Ttest_indResult(statistic=1.707825127659934, pvalue=0.10314561781339608) Ttest_indResult(statistic=1.0063092108532556, pvalue=0.3262874477519526)\n",
      "Ttest_indResult(statistic=-1.0918117878702585, pvalue=0.28789426120039896) Ttest_indResult(statistic=0.9449111825230682, pvalue=0.3559807627625583)\n",
      "Ttest_indResult(statistic=4.008188340197077, pvalue=0.000690181762386027) Ttest_indResult(statistic=2.91111254869791, pvalue=0.008636987373410464)\n",
      "Ttest_indResult(statistic=3.2274861218395143, pvalue=0.004222609683928161) Ttest_indResult(statistic=2.812843385630972, pvalue=0.01074725910479057)\n",
      "Ttest_indResult(statistic=1.4804664203952111, pvalue=0.1543307592513771) Ttest_indResult(statistic=1.7251638983558857, pvalue=0.09991814199698212)\n",
      "Ttest_indResult(statistic=5.114628069552573, pvalue=5.2839309787598765e-05) Ttest_indResult(statistic=2.8788315742461754, pvalue=0.00928202823203349)\n",
      "Ttest_indResult(statistic=2.1417646843905964, pvalue=0.04470623476063634) Ttest_indResult(statistic=2.3973165074269205, pvalue=0.02639754893576963)\n",
      "Ttest_indResult(statistic=1.5931324696929152, pvalue=0.12681266481531742) Ttest_indResult(statistic=0.7669649888473697, pvalue=0.4520616623515967)\n",
      "Ttest_indResult(statistic=2.6768647884309362, pvalue=0.014492533841844228) Ttest_indResult(statistic=2.23606797749979, pvalue=0.03690484293418464)\n",
      "Ttest_indResult(statistic=1.1766968108291043, pvalue=0.25313199822987253) Ttest_indResult(statistic=1.649915822768611, pvalue=0.11457819302234158)\n",
      "Ttest_indResult(statistic=0.2672612419124241, pvalue=0.7920045955876913) Ttest_indResult(statistic=-1.4322297480788653, pvalue=0.1675228770261334)\n",
      "Ttest_indResult(statistic=0.755497356519374, pvalue=0.458756528543672) Ttest_indResult(statistic=-0.5028011423654936, pvalue=0.6205959327738663)\n",
      "Ttest_indResult(statistic=1.2040366032691183, pvalue=0.2426324452955304) Ttest_indResult(statistic=0.9768308314557045, pvalue=0.3403213336734231)\n",
      "Ttest_indResult(statistic=0.5773502691896261, pvalue=0.5701458321728545) Ttest_indResult(statistic=0.3227486121839511, pvalue=0.7502354469672533)\n",
      "Ttest_indResult(statistic=1.112485398724961, pvalue=0.27912317895291355) Ttest_indResult(statistic=0.9325048082403129, pvalue=0.3621972792718454)\n",
      "Ttest_indResult(statistic=2.1490278292025495, pvalue=0.04405590708339966) Ttest_indResult(statistic=2.3440361546924775, pvalue=0.0295161961869072)\n",
      "Ttest_indResult(statistic=2.4009801919951235, pvalue=0.02619476219701077) Ttest_indResult(statistic=3.3048948692942375, pvalue=0.003536425163886828)\n",
      "Ttest_indResult(statistic=-1.1633501014942214, pvalue=0.25837982908904883) Ttest_indResult(statistic=-1.7928429140015896, pvalue=0.08813720318817157)\n",
      "Ttest_indResult(statistic=2.1957751641342003, pvalue=0.04007195255794552) Ttest_indResult(statistic=1.0767638041163314, pvalue=0.29440328241474595)\n",
      "Ttest_indResult(statistic=0.8064778385455121, pvalue=0.4294535865655126) Ttest_indResult(statistic=0.0, pvalue=1.0)\n",
      "Ttest_indResult(statistic=-0.5013947028486563, pvalue=0.6215675907890466) Ttest_indResult(statistic=0.2639818386742277, pvalue=0.7944948846346082)\n",
      "Ttest_indResult(statistic=0.806477838545512, pvalue=0.4294535865655126) Ttest_indResult(statistic=-0.39840953644479754, pvalue=0.6945496192126788)\n",
      "Ttest_indResult(statistic=1.6269784336399227, pvalue=0.11939466704392532) Ttest_indResult(statistic=1.9781414201873626, pvalue=0.06185401636679032)\n",
      "Ttest_indResult(statistic=1.1016316230980794, pvalue=0.28370338469082684) Ttest_indResult(statistic=0.46373889576016786, pvalue=0.6478422535834376)\n",
      "Ttest_indResult(statistic=0.7613869876268812, pvalue=0.4553106805483823) Ttest_indResult(statistic=1.2040366032691183, pvalue=0.2426324452955304)\n",
      "Ttest_indResult(statistic=0.0, pvalue=1.0) Ttest_indResult(statistic=-1.4348601079588783, pvalue=0.1667806971257067)\n",
      "Ttest_indResult(statistic=4.04145188432738, pvalue=0.0006385319520443683) Ttest_indResult(statistic=6.264114497259977, pvalue=4.074506669519303e-06)\n",
      "Ttest_indResult(statistic=2.2294816068526147, pvalue=0.03740636749903282) Ttest_indResult(statistic=2.752083664615126, pvalue=0.012289864292415945)\n",
      "Ttest_indResult(statistic=1.6681153124565986, pvalue=0.11087458165626478) Ttest_indResult(statistic=1.0000000000000002, pvalue=0.32925657717170886)\n",
      "Ttest_indResult(statistic=0.4938647983247943, pvalue=0.6267817828904267) Ttest_indResult(statistic=3.0988989340045605, pvalue=0.005658988154277101)\n",
      "Ttest_indResult(statistic=3.1492908387262757, pvalue=0.005046975318985486) Ttest_indResult(statistic=2.8644594961577323, pvalue=0.009583856435751409)\n",
      "Ttest_indResult(statistic=2.5693505988868077, pvalue=0.018298522292158434) Ttest_indResult(statistic=2.3717082451262845, pvalue=0.02785620617951398)\n",
      "Ttest_indResult(statistic=1.4790199457749038, pvalue=0.15471363846083766) Ttest_indResult(statistic=1.3521679662509474, pvalue=0.19141497493118576)\n",
      "Ttest_indResult(statistic=2.258769757263127, pvalue=0.03522304634447173) Ttest_indResult(statistic=2.01261842170651, pvalue=0.05781568688233497)\n",
      "Ttest_indResult(statistic=3.4933350584374905, pvalue=0.002290187438542822) Ttest_indResult(statistic=4.472135954999578, pvalue=0.00023344743474862335)\n",
      "Ttest_indResult(statistic=2.5701176212687162, pvalue=0.018268303730780415) Ttest_indResult(statistic=3.7736595406997075, pvalue=0.0011936624585687744)\n",
      "Ttest_indResult(statistic=0.34199278402838523, pvalue=0.735923842565639) Ttest_indResult(statistic=0.775217091182553, pvalue=0.4472810161970536)\n",
      "Ttest_indResult(statistic=3.691751922605922, pvalue=0.0014447013351898757) Ttest_indResult(statistic=3.721042037676254, pvalue=0.0013494301675464147)\n",
      "Ttest_indResult(statistic=2.4096579867074963, pvalue=0.02572020492514424) Ttest_indResult(statistic=1.0206207261596576, pvalue=0.3196220090734845)\n",
      "Ttest_indResult(statistic=2.381415742703764, pvalue=0.027294678183987387) Ttest_indResult(statistic=0.169030850945704, pvalue=0.8674702421080568)\n",
      "Ttest_indResult(statistic=-0.43946905148178605, pvalue=0.6650334835309994) Ttest_indResult(statistic=0.7056967961720458, pvalue=0.48851582229186097)\n",
      "Ttest_indResult(statistic=1.2909944487358058, pvalue=0.21142939123575694) Ttest_indResult(statistic=-0.7115680669648194, pvalue=0.48494996099889853)\n",
      "Ttest_indResult(statistic=3.1165114596549963, pvalue=0.005437315369145764) Ttest_indResult(statistic=0.7499999999999994, pvalue=0.4619870248126584)\n",
      "Ttest_indResult(statistic=2.1926450482675737, pvalue=0.04032808867093677) Ttest_indResult(statistic=1.4724610666908493, pvalue=0.15645951375590872)\n",
      "Ttest_indResult(statistic=-0.6438227799796505, pvalue=0.527005170096227) Ttest_indResult(statistic=1.3370525409297516, pvalue=0.19621552642994378)\n",
      "Ttest_indResult(statistic=1.4085904245475278, pvalue=0.17431330020576133) Ttest_indResult(statistic=-0.5679618342470643, pvalue=0.5763823404075231)\n",
      "Ttest_indResult(statistic=2.850438562747845, pvalue=0.009887361327053016) Ttest_indResult(statistic=3.069703067574602, pvalue=0.006045883570463303)\n",
      "Ttest_indResult(statistic=3.608049059813076, pvalue=0.001755213273337213) Ttest_indResult(statistic=4.146139914483855, pvalue=0.000499868952049619)\n",
      "Ttest_indResult(statistic=0.0, pvalue=1.0) Ttest_indResult(statistic=-0.3380617018914064, pvalue=0.7388395225071016)\n",
      "Ttest_indResult(statistic=3.1693284552319376, pvalue=0.0048219205545577725) Ttest_indResult(statistic=4.714951667914448, pvalue=0.00013273806073077314)\n",
      "Ttest_indResult(statistic=6.708203932499369, pvalue=1.579831896867112e-06) Ttest_indResult(statistic=3.8332593899996388, pvalue=0.001038685150720493)\n",
      "Ttest_indResult(statistic=2.0083160441856096, pvalue=0.0583064261370997) Ttest_indResult(statistic=1.4804664203952111, pvalue=0.1543307592513771)\n",
      "Ttest_indResult(statistic=1.5126584522688318, pvalue=0.14600839430194143) Ttest_indResult(statistic=2.664854456694083, pvalue=0.014877200189153643)\n",
      "Ttest_indResult(statistic=-0.2817180849095053, pvalue=0.7810540223780771) Ttest_indResult(statistic=-1.0882143751650175, pvalue=0.28944074949504917)\n"
     ]
    }
   ],
   "source": [
    "from scipy import stats\n",
    "res = []\n",
    "shp = arr.shape\n",
    "docvstf_t = []\n",
    "docvstf_p = []\n",
    "docvslda_t=[]\n",
    "docvslda_p=[]\n",
    "for s1 in range(shp[1]):\n",
    "    for s3 in range(shp[3]):\n",
    "        print(stats.ttest_ind(arr[:,s1,0,s3],arr[:,s1,1,s3]),stats.ttest_ind(arr[:,s1,0,s3],arr[:,s1,2,s3]))\n",
    "        docvstf_t.append(stats.ttest_ind(arr[:,s1,0,s3],arr[:,s1,1,s3]).statistic)\n",
    "        docvstf_p.append(stats.ttest_ind(arr[:,s1,0,s3],arr[:,s1,1,s3]).pvalue)\n",
    "        docvslda_t.append(stats.ttest_ind(arr[:,s1,0,s3],arr[:,s1,2,s3]).statistic)\n",
    "        docvslda_p.append(stats.ttest_ind(arr[:,s1,0,s3],arr[:,s1,2,s3]).pvalue)"
   ]
  },
  {
   "cell_type": "code",
   "execution_count": 423,
   "metadata": {},
   "outputs": [
    {
     "name": "stdout",
     "output_type": "stream",
     "text": [
      "[0.0011323015238103326, 0.01917688650009987, 0.004372328214823962]\n",
      "[0.18500909755239753, 0.4327482471586739, 0.10314561781339608]\n",
      "[0.000690181762386027, 0.004222609683928161, 0.1543307592513771]\n",
      "[0.04470623476063634, 0.12681266481531742, 0.014492533841844228]\n",
      "[0.7920045955876913, 0.458756528543672, 0.2426324452955304]\n",
      "[0.27912317895291355, 0.04405590708339966, 0.02619476219701077]\n",
      "[0.04007195255794552, 0.4294535865655126, 0.6215675907890466]\n",
      "[0.11939466704392532, 0.28370338469082684, 0.4553106805483823]\n",
      "[0.0006385319520443683, 0.03740636749903282, 0.11087458165626478]\n",
      "[0.005046975318985486, 0.018298522292158434, 0.15471363846083766]\n",
      "[0.002290187438542822, 0.018268303730780415, 0.735923842565639]\n",
      "[0.02572020492514424, 0.027294678183987387, 0.6650334835309994]\n",
      "[0.005437315369145764, 0.04032808867093677, 0.527005170096227]\n",
      "[0.009887361327053016, 0.001755213273337213, 1.0]\n",
      "[1.579831896867112e-06, 0.0583064261370997, 0.14600839430194143]\n"
     ]
    }
   ],
   "source": [
    "p_val_doctf = []\n",
    "for i in range(0,len(docvstf_p),4):\n",
    "    print(docvstf_p[i:i+3])\n",
    "    p_val_doctf.append(docvstf_p[i:i+3])"
   ]
  },
  {
   "cell_type": "code",
   "execution_count": 424,
   "metadata": {},
   "outputs": [
    {
     "name": "stdout",
     "output_type": "stream",
     "text": [
      "[3.7962830118264836, 2.547560838363936, 3.212237746117123]\n",
      "[-1.3728129459672882, -0.8006407690254358, 1.707825127659934]\n",
      "[4.008188340197077, 3.2274861218395143, 1.4804664203952111]\n",
      "[2.1417646843905964, 1.5931324696929152, 2.6768647884309362]\n",
      "[0.2672612419124241, 0.755497356519374, 1.2040366032691183]\n",
      "[1.112485398724961, 2.1490278292025495, 2.4009801919951235]\n",
      "[2.1957751641342003, 0.8064778385455121, -0.5013947028486563]\n",
      "[1.6269784336399227, 1.1016316230980794, 0.7613869876268812]\n",
      "[4.04145188432738, 2.2294816068526147, 1.6681153124565986]\n",
      "[3.1492908387262757, 2.5693505988868077, 1.4790199457749038]\n",
      "[3.4933350584374905, 2.5701176212687162, 0.34199278402838523]\n",
      "[2.4096579867074963, 2.381415742703764, -0.43946905148178605]\n",
      "[3.1165114596549963, 2.1926450482675737, -0.6438227799796505]\n",
      "[2.850438562747845, 3.608049059813076, 0.0]\n",
      "[6.708203932499369, 2.0083160441856096, 1.5126584522688318]\n"
     ]
    }
   ],
   "source": [
    "t_val_doctf = []\n",
    "for i in range(0,len(docvstf_t),4):\n",
    "    print(docvstf_t[i:i+3])\n",
    "    t_val_doctf.append(docvstf_t[i:i+3])"
   ]
  },
  {
   "cell_type": "code",
   "execution_count": 425,
   "metadata": {},
   "outputs": [
    {
     "name": "stdout",
     "output_type": "stream",
     "text": [
      "[0.0020022230371829555, 0.00018984552414063767, 0.32925657717170886]\n",
      "[0.4600793005644893, 0.5568040543422415, 0.3262874477519526]\n",
      "[0.008636987373410464, 0.01074725910479057, 0.09991814199698212]\n",
      "[0.02639754893576963, 0.4520616623515967, 0.03690484293418464]\n",
      "[0.1675228770261334, 0.6205959327738663, 0.3403213336734231]\n",
      "[0.3621972792718454, 0.0295161961869072, 0.003536425163886828]\n",
      "[0.29440328241474595, 1.0, 0.7944948846346082]\n",
      "[0.06185401636679032, 0.6478422535834376, 0.2426324452955304]\n",
      "[4.074506669519303e-06, 0.012289864292415945, 0.32925657717170886]\n",
      "[0.009583856435751409, 0.02785620617951398, 0.19141497493118576]\n",
      "[0.00023344743474862335, 0.0011936624585687744, 0.4472810161970536]\n",
      "[0.3196220090734845, 0.8674702421080568, 0.48851582229186097]\n",
      "[0.4619870248126584, 0.15645951375590872, 0.19621552642994378]\n",
      "[0.006045883570463303, 0.000499868952049619, 0.7388395225071016]\n",
      "[0.001038685150720493, 0.1543307592513771, 0.014877200189153643]\n"
     ]
    }
   ],
   "source": [
    "p_val_doclda = []\n",
    "for i in range(0,len(docvslda_p),4):\n",
    "    print(docvslda_p[i:i+3])\n",
    "    p_val_doclda.append(docvslda_p[i:i+3])"
   ]
  },
  {
   "cell_type": "code",
   "execution_count": 426,
   "metadata": {},
   "outputs": [
    {
     "name": "stdout",
     "output_type": "stream",
     "text": [
      "[3.5513293706029954, 4.560908549012227, 1.0000000000000002]\n",
      "[0.7532435771547097, 0.5976143046671962, 1.0063092108532556]\n",
      "[2.91111254869791, 2.812843385630972, 1.7251638983558857]\n",
      "[2.3973165074269205, 0.7669649888473697, 2.23606797749979]\n",
      "[-1.4322297480788653, -0.5028011423654936, 0.9768308314557045]\n",
      "[0.9325048082403129, 2.3440361546924775, 3.3048948692942375]\n",
      "[1.0767638041163314, 0.0, 0.2639818386742277]\n",
      "[1.9781414201873626, 0.46373889576016786, 1.2040366032691183]\n",
      "[6.264114497259977, 2.752083664615126, 1.0000000000000002]\n",
      "[2.8644594961577323, 2.3717082451262845, 1.3521679662509474]\n",
      "[4.472135954999578, 3.7736595406997075, 0.775217091182553]\n",
      "[1.0206207261596576, 0.169030850945704, 0.7056967961720458]\n",
      "[0.7499999999999994, 1.4724610666908493, 1.3370525409297516]\n",
      "[3.069703067574602, 4.146139914483855, -0.3380617018914064]\n",
      "[3.8332593899996388, 1.4804664203952111, 2.664854456694083]\n"
     ]
    }
   ],
   "source": [
    "t_val_doclda = []\n",
    "for i in range(0,len(docvslda_t),4):\n",
    "    print(docvslda_t[i:i+3])\n",
    "    t_val_doclda.append(docvslda_t[i:i+3])"
   ]
  },
  {
   "cell_type": "code",
   "execution_count": 427,
   "metadata": {
    "scrolled": false
   },
   "outputs": [
    {
     "name": "stdout",
     "output_type": "stream",
     "text": [
      "\n",
      "\n",
      " 3.796 & 0.001 & 3.551 & 0.002 & -1.373 & 0.185 & 0.753 & 0.46 & 4.008 & 0.001 & 2.911 & 0.009 & 2.142 & 0.045 & 2.397 & 0.026 & 0.267 & 0.792 & -1.432 & 0.168 \\\\\n",
      "\n",
      "\n",
      " 2.548 & 0.019 & 4.561 & 0.0 & -0.801 & 0.433 & 0.598 & 0.557 & 3.227 & 0.004 & 2.813 & 0.011 & 1.593 & 0.127 & 0.767 & 0.452 & 0.755 & 0.459 & -0.503 & 0.621 \\\\\n",
      "\n",
      "\n",
      " 3.212 & 0.004 & 1.0 & 0.329 & 1.708 & 0.103 & 1.006 & 0.326 & 1.48 & 0.154 & 1.725 & 0.1 & 2.677 & 0.014 & 2.236 & 0.037 & 1.204 & 0.243 & 0.977 & 0.34 \\\\\n",
      "\n",
      "\n",
      " 1.112 & 0.279 & 0.933 & 0.362 & 2.196 & 0.04 & 1.077 & 0.294 & 1.627 & 0.119 & 1.978 & 0.062 & 4.041 & 0.001 & 6.264 & 0.0 & 3.149 & 0.005 & 2.864 & 0.01 \\\\\n",
      "\n",
      "\n",
      " 2.149 & 0.044 & 2.344 & 0.03 & 0.806 & 0.429 & 0.0 & 1.0 & 1.102 & 0.284 & 0.464 & 0.648 & 2.229 & 0.037 & 2.752 & 0.012 & 2.569 & 0.018 & 2.372 & 0.028 \\\\\n",
      "\n",
      "\n",
      " 2.401 & 0.026 & 3.305 & 0.004 & -0.501 & 0.622 & 0.264 & 0.794 & 0.761 & 0.455 & 1.204 & 0.243 & 1.668 & 0.111 & 1.0 & 0.329 & 1.479 & 0.155 & 1.352 & 0.191 \\\\\n",
      "\n",
      "\n",
      " 3.493 & 0.002 & 4.472 & 0.0 & 2.41 & 0.026 & 1.021 & 0.32 & 3.117 & 0.005 & 0.75 & 0.462 & 2.85 & 0.01 & 3.07 & 0.006 & 6.708 & 0.0 & 3.833 & 0.001 \\\\\n",
      "\n",
      "\n",
      " 2.57 & 0.018 & 3.774 & 0.001 & 2.381 & 0.027 & 0.169 & 0.867 & 2.193 & 0.04 & 1.472 & 0.156 & 3.608 & 0.002 & 4.146 & 0.0 & 2.008 & 0.058 & 1.48 & 0.154 \\\\\n",
      "\n",
      "\n",
      " 0.342 & 0.736 & 0.775 & 0.447 & -0.439 & 0.665 & 0.706 & 0.489 & -0.644 & 0.527 & 1.337 & 0.196 & 0.0 & 1.0 & -0.338 & 0.739 & 1.513 & 0.146 & 2.665 & 0.015 \\\\\n"
     ]
    }
   ],
   "source": [
    "for i in range(0,15,5):\n",
    "    for j in range(3):\n",
    "        print('\\n\\n',round(t_val_doctf[i][j],3),'&',round(p_val_doctf[i][j],3),'&',round(t_val_doclda[i][j],3),'&',round(p_val_doclda[i][j],3),'&',\n",
    "              round(t_val_doctf[i+1][j],3),'&',round(p_val_doctf[i+1][j],3),'&',round(t_val_doclda[i+1][j],3),'&',round(p_val_doclda[i+1][j],3),'&',\n",
    "              round(t_val_doctf[i+2][j],3),'&',round(p_val_doctf[i+2][j],3),'&',round(t_val_doclda[i+2][j],3),'&',round(p_val_doclda[i+2][j],3),'&',\n",
    "              round(t_val_doctf[i+3][j],3),'&',round(p_val_doctf[i+3][j],3),'&',round(t_val_doclda[i+3][j],3),'&',round(p_val_doclda[i+3][j],3),'&',\n",
    "              round(t_val_doctf[i+4][j],3),'&',round(p_val_doctf[i+4][j],3),'&',round(t_val_doclda[i+4][j],3),'&',round(p_val_doclda[i+4][j],3),'\\\\\\\\'        \n",
    "             )"
   ]
  },
  {
   "cell_type": "code",
   "execution_count": null,
   "metadata": {},
   "outputs": [],
   "source": []
  }
 ],
 "metadata": {
  "kernelspec": {
   "display_name": "Python 3",
   "language": "python",
   "name": "python3"
  },
  "language_info": {
   "codemirror_mode": {
    "name": "ipython",
    "version": 3
   },
   "file_extension": ".py",
   "mimetype": "text/x-python",
   "name": "python",
   "nbconvert_exporter": "python",
   "pygments_lexer": "ipython3",
   "version": "3.8.3"
  }
 },
 "nbformat": 4,
 "nbformat_minor": 2
}
